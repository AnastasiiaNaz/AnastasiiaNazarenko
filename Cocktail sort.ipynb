{
 "cells": [
  {
   "cell_type": "code",
   "execution_count": 73,
   "metadata": {},
   "outputs": [],
   "source": [
    "def sort(a, start, k):\n",
    "    lt = start\n",
    "    rt = k\n",
    "    while lt <= rt:\n",
    "        for i in range(lt, rt, 1):\n",
    "            if a[i-1] > a[i]:\n",
    "                a[i], a[i-1] = a[i-1], a[i]\n",
    "        rt = rt - 1\n",
    "        for i in range(rt, lt, -1):\n",
    "            if a[i-1] > a[i]:\n",
    "                a[i], a[i-1] = a[i-1], a[i]\n",
    "        lt = lt + 1\n",
    "    for i in range (k):\n",
    "        return a "
   ]
  },
  {
   "cell_type": "code",
   "execution_count": 74,
   "metadata": {},
   "outputs": [
    {
     "data": {
      "text/plain": [
       "[-8, -4, -3, 0, 4, 6, 7, 17, 25, 36]"
      ]
     },
     "execution_count": 74,
     "metadata": {},
     "output_type": "execute_result"
    }
   ],
   "source": [
    "arr = [-8, 25, 7, 6, 0, -3, 4, 17, 36, -4]\n",
    "n = len(arr)\n",
    "\n",
    "sort(arr, 1, n)"
   ]
  },
  {
   "cell_type": "code",
   "execution_count": null,
   "metadata": {},
   "outputs": [],
   "source": []
  },
  {
   "cell_type": "code",
   "execution_count": null,
   "metadata": {},
   "outputs": [],
   "source": []
  },
  {
   "cell_type": "code",
   "execution_count": null,
   "metadata": {},
   "outputs": [],
   "source": []
  },
  {
   "cell_type": "code",
   "execution_count": null,
   "metadata": {},
   "outputs": [],
   "source": []
  }
 ],
 "metadata": {
  "kernelspec": {
   "display_name": "Python 3",
   "language": "python",
   "name": "python3"
  },
  "language_info": {
   "codemirror_mode": {
    "name": "ipython",
    "version": 3
   },
   "file_extension": ".py",
   "mimetype": "text/x-python",
   "name": "python",
   "nbconvert_exporter": "python",
   "pygments_lexer": "ipython3",
   "version": "3.6.5"
  }
 },
 "nbformat": 4,
 "nbformat_minor": 2
}
