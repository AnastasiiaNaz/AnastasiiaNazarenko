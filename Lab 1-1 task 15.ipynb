{
 "cells": [
  {
   "cell_type": "code",
   "execution_count": null,
   "metadata": {},
   "outputs": [],
   "source": [
    "a = str(input())\n",
    "l = a.isalpha()\n",
    "k = 0\n",
    "res = []\n",
    "\n",
    "if not a: \n",
    "     k = 1\n",
    "elif l == True:\n",
    "    print(False)\n",
    "    k = 1\n",
    "\n",
    "l1 = a.isdigit() \n",
    "if l1 == True:\n",
    "    k = 1\n",
    "    res = a.split()\n",
    "    [[i, ] for i in res]\n",
    "\n",
    "if k == 1 and l == False :\n",
    "    print(res)\n"
   ]
  },
  {
   "cell_type": "code",
   "execution_count": 1,
   "metadata": {},
   "outputs": [
    {
     "name": "stdout",
     "output_type": "stream",
     "text": [
      "[]\n"
     ]
    }
   ],
   "source": [
    "a = []\n",
    "\n",
    "if a == []:\n",
    "    print(a)"
   ]
  },
  {
   "cell_type": "code",
   "execution_count": 4,
   "metadata": {},
   "outputs": [],
   "source": [
    "def foo(b):\n",
    "    return b"
   ]
  },
  {
   "cell_type": "code",
   "execution_count": 6,
   "metadata": {},
   "outputs": [
    {
     "data": {
      "text/plain": [
       "[]"
      ]
     },
     "execution_count": 6,
     "metadata": {},
     "output_type": "execute_result"
    }
   ],
   "source": [
    "a = []\n",
    "foo(a)"
   ]
  },
  {
   "cell_type": "code",
   "execution_count": 17,
   "metadata": {},
   "outputs": [
    {
     "name": "stdout",
     "output_type": "stream",
     "text": [
      "[-5, 0, 1, 5, 10, 16, 17, 19, 20, 20, 35]\n",
      "20   35\n"
     ]
    }
   ],
   "source": [
    "a = [1, 5, 10, 16, 17, 20, 35, 20, 19, 0, -5]\n",
    "a = sorted(a)\n",
    "print(a)\n",
    "\n",
    "e = len(a)\n",
    "\n",
    "k = a.count(a[e-1])\n",
    "\n",
    "print(a[e-1-k], ' ', a[e-1])"
   ]
  },
  {
   "cell_type": "code",
   "execution_count": 18,
   "metadata": {},
   "outputs": [],
   "source": [
    "def foo(a):\n",
    "    a = sorted(a)\n",
    "    print(a)\n",
    "    e = len(a)\n",
    "    k = a.count(a[e-1])\n",
    "    return(a[e-1-k], a[e-1])\n",
    "    "
   ]
  },
  {
   "cell_type": "code",
   "execution_count": 19,
   "metadata": {},
   "outputs": [
    {
     "name": "stdout",
     "output_type": "stream",
     "text": [
      "[-5, 0, 1, 5, 10, 16, 17, 19, 20, 20, 35]\n"
     ]
    },
    {
     "data": {
      "text/plain": [
       "(20, 35)"
      ]
     },
     "execution_count": 19,
     "metadata": {},
     "output_type": "execute_result"
    }
   ],
   "source": [
    "a = [1, 5, 10, 16, 17, 20, 35, 20, 19, 0, -5]\n",
    "foo (a)"
   ]
  },
  {
   "cell_type": "code",
   "execution_count": 20,
   "metadata": {},
   "outputs": [
    {
     "name": "stdout",
     "output_type": "stream",
     "text": [
      "false\n"
     ]
    }
   ],
   "source": [
    "a = 8\n",
    "\n",
    "if a != []:\n",
    "    print('false')"
   ]
  },
  {
   "cell_type": "code",
   "execution_count": 26,
   "metadata": {},
   "outputs": [],
   "source": [
    "def foo(a):\n",
    "    if a != []:\n",
    "        return 'false'"
   ]
  },
  {
   "cell_type": "code",
   "execution_count": 27,
   "metadata": {},
   "outputs": [
    {
     "data": {
      "text/plain": [
       "'false'"
      ]
     },
     "execution_count": 27,
     "metadata": {},
     "output_type": "execute_result"
    }
   ],
   "source": [
    "a = 55\n",
    "foo(a)"
   ]
  },
  {
   "cell_type": "code",
   "execution_count": null,
   "metadata": {},
   "outputs": [],
   "source": []
  }
 ],
 "metadata": {
  "kernelspec": {
   "display_name": "Python 3",
   "language": "python",
   "name": "python3"
  },
  "language_info": {
   "codemirror_mode": {
    "name": "ipython",
    "version": 3
   },
   "file_extension": ".py",
   "mimetype": "text/x-python",
   "name": "python",
   "nbconvert_exporter": "python",
   "pygments_lexer": "ipython3",
   "version": "3.6.5"
  }
 },
 "nbformat": 4,
 "nbformat_minor": 2
}
